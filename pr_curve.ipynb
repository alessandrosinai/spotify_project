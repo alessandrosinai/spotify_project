{
 "cells": [
  {
   "cell_type": "code",
   "execution_count": 1,
   "metadata": {},
   "outputs": [],
   "source": [
    "import numpy as np\n",
    "import pandas as pd\n",
    "import matplotlib.pyplot as plt\n",
    "from sklearn.metrics import precision_recall_curve, average_precision_score, confusion_matrix"
   ]
  },
  {
   "cell_type": "code",
   "execution_count": 23,
   "metadata": {},
   "outputs": [],
   "source": [
    "preds = pd.read_csv(\"preds_models.csv\")"
   ]
  },
  {
   "cell_type": "code",
   "execution_count": 25,
   "metadata": {},
   "outputs": [],
   "source": [
    "preds = preds.rename(columns={\"P (popularity_class=1)\": \"Logistic Regression_pred\",\n",
    "                      \"P (popularity_class=1) (right)\": \"Random Forest_pred\",\n",
    "                      \"ensemble_pred\": \"Ensemble_pred\"})"
   ]
  },
  {
   "cell_type": "code",
   "execution_count": 90,
   "metadata": {},
   "outputs": [
    {
     "data": {
      "text/html": [
       "<div>\n",
       "<style scoped>\n",
       "    .dataframe tbody tr th:only-of-type {\n",
       "        vertical-align: middle;\n",
       "    }\n",
       "\n",
       "    .dataframe tbody tr th {\n",
       "        vertical-align: top;\n",
       "    }\n",
       "\n",
       "    .dataframe thead th {\n",
       "        text-align: right;\n",
       "    }\n",
       "</style>\n",
       "<table border=\"1\" class=\"dataframe\">\n",
       "  <thead>\n",
       "    <tr style=\"text-align: right;\">\n",
       "      <th></th>\n",
       "      <th>Logistic Regression_pred</th>\n",
       "      <th>popularity_class</th>\n",
       "      <th>Random Forest_pred</th>\n",
       "      <th>Ensemble_pred</th>\n",
       "    </tr>\n",
       "  </thead>\n",
       "  <tbody>\n",
       "    <tr>\n",
       "      <th>0</th>\n",
       "      <td>0.195569</td>\n",
       "      <td>0</td>\n",
       "      <td>0.030</td>\n",
       "      <td>0.112784</td>\n",
       "    </tr>\n",
       "    <tr>\n",
       "      <th>1</th>\n",
       "      <td>0.159675</td>\n",
       "      <td>0</td>\n",
       "      <td>0.485</td>\n",
       "      <td>0.322337</td>\n",
       "    </tr>\n",
       "    <tr>\n",
       "      <th>2</th>\n",
       "      <td>0.187009</td>\n",
       "      <td>0</td>\n",
       "      <td>0.000</td>\n",
       "      <td>0.093505</td>\n",
       "    </tr>\n",
       "    <tr>\n",
       "      <th>3</th>\n",
       "      <td>0.319743</td>\n",
       "      <td>1</td>\n",
       "      <td>0.675</td>\n",
       "      <td>0.497371</td>\n",
       "    </tr>\n",
       "    <tr>\n",
       "      <th>4</th>\n",
       "      <td>0.319694</td>\n",
       "      <td>0</td>\n",
       "      <td>0.040</td>\n",
       "      <td>0.179847</td>\n",
       "    </tr>\n",
       "    <tr>\n",
       "      <th>...</th>\n",
       "      <td>...</td>\n",
       "      <td>...</td>\n",
       "      <td>...</td>\n",
       "      <td>...</td>\n",
       "    </tr>\n",
       "    <tr>\n",
       "      <th>1935</th>\n",
       "      <td>0.173301</td>\n",
       "      <td>0</td>\n",
       "      <td>0.005</td>\n",
       "      <td>0.089151</td>\n",
       "    </tr>\n",
       "    <tr>\n",
       "      <th>1936</th>\n",
       "      <td>0.121091</td>\n",
       "      <td>0</td>\n",
       "      <td>0.010</td>\n",
       "      <td>0.065545</td>\n",
       "    </tr>\n",
       "    <tr>\n",
       "      <th>1937</th>\n",
       "      <td>0.106984</td>\n",
       "      <td>0</td>\n",
       "      <td>0.010</td>\n",
       "      <td>0.058492</td>\n",
       "    </tr>\n",
       "    <tr>\n",
       "      <th>1938</th>\n",
       "      <td>0.201823</td>\n",
       "      <td>0</td>\n",
       "      <td>0.010</td>\n",
       "      <td>0.105912</td>\n",
       "    </tr>\n",
       "    <tr>\n",
       "      <th>1939</th>\n",
       "      <td>0.136681</td>\n",
       "      <td>1</td>\n",
       "      <td>0.295</td>\n",
       "      <td>0.215840</td>\n",
       "    </tr>\n",
       "  </tbody>\n",
       "</table>\n",
       "<p>1940 rows × 4 columns</p>\n",
       "</div>"
      ],
      "text/plain": [
       "      Logistic Regression_pred  popularity_class  Random Forest_pred  \\\n",
       "0                     0.195569                 0               0.030   \n",
       "1                     0.159675                 0               0.485   \n",
       "2                     0.187009                 0               0.000   \n",
       "3                     0.319743                 1               0.675   \n",
       "4                     0.319694                 0               0.040   \n",
       "...                        ...               ...                 ...   \n",
       "1935                  0.173301                 0               0.005   \n",
       "1936                  0.121091                 0               0.010   \n",
       "1937                  0.106984                 0               0.010   \n",
       "1938                  0.201823                 0               0.010   \n",
       "1939                  0.136681                 1               0.295   \n",
       "\n",
       "      Ensemble_pred  \n",
       "0          0.112784  \n",
       "1          0.322337  \n",
       "2          0.093505  \n",
       "3          0.497371  \n",
       "4          0.179847  \n",
       "...             ...  \n",
       "1935       0.089151  \n",
       "1936       0.065545  \n",
       "1937       0.058492  \n",
       "1938       0.105912  \n",
       "1939       0.215840  \n",
       "\n",
       "[1940 rows x 4 columns]"
      ]
     },
     "execution_count": 90,
     "metadata": {},
     "output_type": "execute_result"
    }
   ],
   "source": [
    "preds"
   ]
  },
  {
   "cell_type": "code",
   "execution_count": 37,
   "metadata": {},
   "outputs": [],
   "source": [
    "def find_max_f1_threshold(precision, recall, thresholds):\n",
    "    f1_scores = []\n",
    "    for i in range(len(precision)):\n",
    "        f1 = 2 / (1/(precision[i] + 1e-12) + 1/(recall[i] + 1e-12))\n",
    "        f1_scores.append(f1)\n",
    "    f1_scores = np.array(f1_scores)\n",
    "    j = np.argmax(f1_scores)\n",
    "    return j, thresholds[j] "
   ]
  },
  {
   "cell_type": "code",
   "execution_count": 81,
   "metadata": {},
   "outputs": [],
   "source": [
    "def find_optimal_threshold(precision, recall, thresholds, target_precision):\n",
    "    mask = np.abs(precision[:-1] - target_precision) < 0.01\n",
    "    index = np.argmax(recall[:-1][mask])\n",
    "    max_recall = np.max(recall[:-1][mask])\n",
    "    return thresholds[mask][index], max_recall"
   ]
  },
  {
   "cell_type": "code",
   "execution_count": 87,
   "metadata": {},
   "outputs": [],
   "source": [
    "def plot_precision_recall_curve(pred_proba, labels, name, target_precision):\n",
    "    precision, recall, thresholds = precision_recall_curve(labels, pred_proba)\n",
    "    j, max_f1_threshold = find_max_f1_threshold(precision, recall, thresholds)\n",
    "    optimal_threshold, max_recall = find_optimal_threshold(precision, recall, thresholds, target_precision)\n",
    "    \n",
    "    ap = average_precision_score(labels, pred_proba)\n",
    "    plt.title(f\"PR Curve {name}\")\n",
    "    plt.plot(recall, precision, linewidth=1.2,label=\"AUC = {:.2f}\".format(ap))\n",
    "    plt.plot(recall[j], precision[j], \"ro\", label=\"Max F1 point\")\n",
    "    plt.ylabel(\"Precision\")\n",
    "    plt.xlabel(\"Recall\")\n",
    "    plt.grid(True, color='w', linestyle='-', linewidth=1)\n",
    "    plt.gca().patch.set_facecolor('0.92')\n",
    "    plt.legend()\n",
    "    plt.show()\n",
    "    print(f\"Max F1 Threshold {name}: {max_f1_threshold}\")\n",
    "    print(f\"Optimal Thresholds for precision {target_precision}: {optimal_threshold} with Recall: {max_recall}\")\n",
    "    \n",
    "    return max_f1_threshold    "
   ]
  },
  {
   "cell_type": "code",
   "execution_count": 88,
   "metadata": {},
   "outputs": [
    {
     "data": {
      "text/plain": [
       "Index(['Logistic Regression_pred', 'popularity_class', 'Random Forest_pred',\n",
       "       'Ensemble_pred'],\n",
       "      dtype='object')"
      ]
     },
     "execution_count": 88,
     "metadata": {},
     "output_type": "execute_result"
    }
   ],
   "source": [
    "preds.columns"
   ]
  },
  {
   "cell_type": "code",
   "execution_count": 89,
   "metadata": {},
   "outputs": [
    {
     "data": {
      "image/png": "[encoded data removed]",
      "text/plain": [
       "<Figure size 432x288 with 1 Axes>"
      ]
     },
     "metadata": {
      "needs_background": "light"
     },
     "output_type": "display_data"
    },
    {
     "name": "stdout",
     "output_type": "stream",
     "text": [
      "Max F1 Threshold Logistic Regression: 0.2381840515844548\n",
      "Optimal Thresholds for precision 0.65: 0.6190762868567525 with Recall: 0.06133333333333333\n"
     ]
    },
    {
     "data": {
      "image/png": "[encoded data removed]",
      "text/plain": [
       "<Figure size 432x288 with 1 Axes>"
      ]
     },
     "metadata": {
      "needs_background": "light"
     },
     "output_type": "display_data"
    },
    {
     "name": "stdout",
     "output_type": "stream",
     "text": [
      "Max F1 Threshold Random Forest: 0.2199999988079071\n",
      "Optimal Thresholds for precision 0.65: 0.4600000083446503 with Recall: 0.38666666666666666\n"
     ]
    },
    {
     "data": {
      "image/png": "[encoded data removed]",
      "text/plain": [
       "<Figure size 432x288 with 1 Axes>"
      ]
     },
     "metadata": {
      "needs_background": "light"
     },
     "output_type": "display_data"
    },
    {
     "name": "stdout",
     "output_type": "stream",
     "text": [
      "Max F1 Threshold Ensemble: 0.2397896048918873\n",
      "Optimal Thresholds for precision 0.65: 0.3515227095031865 with Recall: 0.448\n"
     ]
    }
   ],
   "source": [
    "for model_name in [\"Logistic Regression\", \"Random Forest\", \"Ensemble\"]:\n",
    "    plot_precision_recall_curve(preds[f\"{model_name}_pred\"], preds[\"popularity_class\"], model_name, 0.65)"
   ]
  },
  {
   "cell_type": "code",
   "execution_count": 80,
   "metadata": {},
   "outputs": [
    {
     "name": "stdout",
     "output_type": "stream",
     "text": [
      "Confusion Matrix Logistic Regression: \n",
      "[[1553   12]\n",
      " [ 353   22]]\n",
      "Confusion Matrix Random Forest: \n",
      "[[1484   81]\n",
      " [ 230  145]]\n",
      "Confusion Matrix Ensemble: \n",
      "[[1471   94]\n",
      " [ 207  168]]\n"
     ]
    }
   ],
   "source": [
    "models_thresholds = {\"Logistic Regression\":0.62, \"Random Forest\":0.46, \"Ensemble\":0.35}\n",
    "\n",
    "for name,threshold in models_thresholds.items():\n",
    "    predicted_classes = (preds[f\"{name}_pred\"] > threshold).astype(int)\n",
    "    conf_matrix = confusion_matrix(preds[\"popularity_class\"], predicted_classes)\n",
    "    print(f\"Confusion Matrix {name}: \\n{conf_matrix}\")"
   ]
  },
  {
   "cell_type": "code",
   "execution_count": null,
   "metadata": {},
   "outputs": [],
   "source": []
  }
 ],
 "metadata": {
  "kernelspec": {
   "display_name": "Python 3",
   "language": "python",
   "name": "python3"
  },
  "language_info": {
   "codemirror_mode": {
    "name": "ipython",
    "version": 3
   },
   "file_extension": ".py",
   "mimetype": "text/x-python",
   "name": "python",
   "nbconvert_exporter": "python",
   "pygments_lexer": "ipython3",
   "version": "3.7.7"
  }
 },
 "nbformat": 4,
 "nbformat_minor": 4
}
